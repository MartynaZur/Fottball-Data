{
 "cells": [
  {
   "cell_type": "markdown",
   "metadata": {},
   "source": [
    "## Download data from API"
   ]
  },
  {
   "cell_type": "code",
   "execution_count": 19,
   "metadata": {},
   "outputs": [],
   "source": [
    "import requests\n",
    "import pandas as pd\n",
    "import time\n",
    "from datetime import datetime"
   ]
  },
  {
   "cell_type": "markdown",
   "metadata": {},
   "source": [
    "### Download API token from file"
   ]
  },
  {
   "cell_type": "code",
   "execution_count": 21,
   "metadata": {},
   "outputs": [
    {
     "name": "stdout",
     "output_type": "stream",
     "text": [
      "Pobrano API token z pliku\n"
     ]
    }
   ],
   "source": [
    "def get_api_token_from_file(filename):\n",
    "    try:\n",
    "        with open(filename, 'r') as file:\n",
    "            api_token = file.read().strip()\n",
    "        return api_token\n",
    "    except FileNotFoundError:\n",
    "        print(f\"Plik {filename} nie został znaleziony.\")\n",
    "        return None\n",
    "    except Exception as e:\n",
    "        print(f\"Wystąpił błąd podczas odczytu pliku {filename}: {str(e)}\")\n",
    "        return None\n",
    "    \n",
    "api_token_file = 'd:\\\\praca_inzynierska\\\\Pliki_projektu\\\\api_token.txt'\n",
    "my_api_token = get_api_token_from_file(api_token_file)\n",
    "if my_api_token:\n",
    "    print(f\"Pobrano API token z pliku\")\n",
    "else:\n",
    "    print(\"Nie udało się pobrać API token.\")"
   ]
  },
  {
   "cell_type": "markdown",
   "metadata": {},
   "source": [
    "### Get player attribute data from API and create CSV file"
   ]
  },
  {
   "cell_type": "code",
   "execution_count": 22,
   "metadata": {},
   "outputs": [],
   "source": [
    "headers = {\n",
    "    'X-Auth-Token': my_api_token\n",
    "}\n",
    "\n",
    "def get_data_from_api(url):\n",
    "    while True:\n",
    "        response = requests.get(url, headers=headers)\n",
    "        if response.status_code == 200:\n",
    "            return response.json()\n",
    "        elif response.status_code == 429:\n",
    "            wait_time = int(response.json().get('message').split()[-2])\n",
    "            print(f\"Limit żądań przekroczony. Czekanie {wait_time} sekund.\")\n",
    "            time.sleep(wait_time)\n",
    "        else:\n",
    "            print(f\"Error: {response.status_code} - {response.text}\")\n",
    "            return None\n",
    "\n",
    "def get_all_teams():\n",
    "    url = 'https://api.football-data.org/v2/teams'\n",
    "    data = get_data_from_api(url)\n",
    "    if data:\n",
    "        teams = data['teams']\n",
    "        return pd.DataFrame(teams)\n",
    "    return pd.DataFrame()\n",
    "\n",
    "def get_players_for_team(team_id):\n",
    "    url = f'https://api.football-data.org/v2/teams/{team_id}'\n",
    "    data = get_data_from_api(url)\n",
    "    if data and 'squad' in data:\n",
    "        players = data['squad']\n",
    "        return pd.DataFrame(players)\n",
    "    return pd.DataFrame()\n",
    "\n",
    "def get_player_attributes_from_2022(player_id):\n",
    "    url = f'https://api.football-data.org/v2/players/{player_id}'\n",
    "    data = get_data_from_api(url)\n",
    "    if data:\n",
    "        last_update = datetime.strptime(data['lastUpdated'], '%Y-%m-%dT%H:%M:%SZ')\n",
    "        if last_update.year >= 2022:\n",
    "            return data\n",
    "    return None\n",
    "\n",
    "def collect_data_from_2022():\n",
    "    teams = get_all_teams()\n",
    "    all_players = []\n",
    "    \n",
    "    for _, team in teams.iterrows():\n",
    "        team_id = team['id']\n",
    "        players = get_players_for_team(team_id)\n",
    "        if not players.empty:\n",
    "            players['team_id'] = team_id\n",
    "            players['team_name'] = team['name']\n",
    "            players['league_id'] = team['area']['id']\n",
    "            players['league_name'] = team['area']['name']\n",
    "            all_players.append(players)\n",
    "        time.sleep(1)\n",
    "    \n",
    "    all_players_cleaned = [df for df in all_players if not df.empty]\n",
    "    \n",
    "    if all(all_players_cleaned[0].columns.tolist() == df.columns.tolist() for df in all_players_cleaned):\n",
    "        all_players_df = pd.concat(all_players_cleaned, ignore_index=True)\n",
    "    else:\n",
    "        print(\"Nie można połączyć DataFrame'ów: różne kolumny lub typy danych.\")\n",
    "        return pd.DataFrame()\n",
    "\n",
    "    all_player_attributes = []\n",
    "    for _, player in all_players_df.iterrows():\n",
    "        player_id = player['id']\n",
    "        try:\n",
    "            player_id = int(player_id)\n",
    "        except ValueError:\n",
    "            print(f\"Błąd: ID zawodnika '{player_id}' nie jest liczbą całkowitą.\")\n",
    "            continue\n",
    "        \n",
    "        player_attributes = get_player_attributes_from_2022(player_id)\n",
    "        if player_attributes:\n",
    "            player_attributes['player_id'] = player_id\n",
    "            player_attributes['team_id'] = player['team_id']\n",
    "            player_attributes['team_name'] = player['team_name']\n",
    "            player_attributes['league_id'] = player['league_id']\n",
    "            player_attributes['league_name'] = player['league_name']\n",
    "            all_player_attributes.append(player_attributes)\n",
    "        time.sleep(1)\n",
    "    \n",
    "    all_player_attributes_df = pd.DataFrame(all_player_attributes)\n",
    "    return all_player_attributes_df\n",
    "\n",
    "def save_to_csv(df, filename):\n",
    "    df.to_csv(filename, index=False)\n",
    "    print(f\"Dane zostały zapisane do pliku {filename}\")\n",
    "\n",
    "def save_to_csv(df, filename):\n",
    "    df.to_csv(filename, index=False)\n",
    "    print(f\"Dane zostały zapisane do pliku {filename}\")\n"
   ]
  },
  {
   "cell_type": "code",
   "execution_count": null,
   "metadata": {},
   "outputs": [],
   "source": [
    "data = collect_data_from_2022()\n",
    "if not data.empty:\n",
    "    save_to_csv(data, 'd:\\\\praca_inzynierska\\\\Pliki_projektu\\\\player_attributes.csv')"
   ]
  }
 ],
 "metadata": {
  "kernelspec": {
   "display_name": "python3_12",
   "language": "python",
   "name": "python3"
  },
  "language_info": {
   "codemirror_mode": {
    "name": "ipython",
    "version": 3
   },
   "file_extension": ".py",
   "mimetype": "text/x-python",
   "name": "python",
   "nbconvert_exporter": "python",
   "pygments_lexer": "ipython3",
   "version": "3.12.4"
  }
 },
 "nbformat": 4,
 "nbformat_minor": 2
}
