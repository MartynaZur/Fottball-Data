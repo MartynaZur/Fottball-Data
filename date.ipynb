{
 "cells": [
  {
   "cell_type": "code",
   "execution_count": 1,
   "metadata": {},
   "outputs": [],
   "source": [
    "import pandas as pd\n",
    "import sqlite3"
   ]
  },
  {
   "cell_type": "markdown",
   "metadata": {},
   "source": [
    "# Load Data"
   ]
  },
  {
   "cell_type": "code",
   "execution_count": 2,
   "metadata": {},
   "outputs": [],
   "source": [
    "file_path = 'd:/praca_inzynierska/database.sqlite/database.sqlite'\n",
    "conn = sqlite3.connect(file_path)\n",
    "\n",
    "query_country = \"SELECT * FROM Country;\"\n",
    "df_country = pd.read_sql_query(query_country, conn)\n",
    "\n",
    "query_league = \"SELECT * FROM League;\"\n",
    "df_league = pd.read_sql_query(query_league, conn)\n",
    "\n",
    "query_league = \"SELECT * FROM Match;\"\n",
    "df_match = pd.read_sql_query(query_league, conn)\n",
    "\n",
    "query_league = \"SELECT * FROM Player;\"\n",
    "df_player = pd.read_sql_query(query_league, conn)\n",
    "\n",
    "query_league = \"SELECT * FROM Player_Attributes;\"\n",
    "df_playerAtrib = pd.read_sql_query(query_league, conn)\n",
    "\n",
    "query_league = \"SELECT * FROM Team;\"\n",
    "df_team = pd.read_sql_query(query_league, conn)\n",
    "\n",
    "query_league = \"SELECT * FROM Team_Attributes;\"\n",
    "df_teamAtrib = pd.read_sql_query(query_league, conn)\n",
    "\n",
    "conn.close()\n"
   ]
  },
  {
   "cell_type": "code",
   "execution_count": 3,
   "metadata": {},
   "outputs": [
    {
     "name": "stdout",
     "output_type": "stream",
     "text": [
      "Dane z tabeli Country:\n",
      "      id     name\n",
      "0      1  Belgium\n",
      "1   1729  England\n",
      "2   4769   France\n",
      "3   7809  Germany\n",
      "4  10257    Italy\n",
      "\n",
      "Dane z tabeli League:\n",
      "      id  country_id                    name\n",
      "0      1           1  Belgium Jupiler League\n",
      "1   1729        1729  England Premier League\n",
      "2   4769        4769          France Ligue 1\n",
      "3   7809        7809   Germany 1. Bundesliga\n",
      "4  10257       10257           Italy Serie A\n"
     ]
    }
   ],
   "source": [
    "print(\"Dane z tabeli Country:\")\n",
    "print(df_country.head())\n",
    "\n",
    "print(\"\\nDane z tabeli League:\")\n",
    "print(df_league.head())"
   ]
  },
  {
   "cell_type": "code",
   "execution_count": 4,
   "metadata": {},
   "outputs": [
    {
     "name": "stdout",
     "output_type": "stream",
     "text": [
      "\n",
      "Dane z tabeli Match:\n",
      "   id  country_id  league_id     season  stage                 date  \\\n",
      "0   1           1          1  2008/2009      1  2008-08-17 00:00:00   \n",
      "1   2           1          1  2008/2009      1  2008-08-16 00:00:00   \n",
      "2   3           1          1  2008/2009      1  2008-08-16 00:00:00   \n",
      "3   4           1          1  2008/2009      1  2008-08-17 00:00:00   \n",
      "4   5           1          1  2008/2009      1  2008-08-16 00:00:00   \n",
      "\n",
      "   match_api_id  home_team_api_id  away_team_api_id  home_team_goal  ...  \\\n",
      "0        492473              9987              9993               1  ...   \n",
      "1        492474             10000              9994               0  ...   \n",
      "2        492475              9984              8635               0  ...   \n",
      "3        492476              9991              9998               5  ...   \n",
      "4        492477              7947              9985               1  ...   \n",
      "\n",
      "    SJA   VCH   VCD   VCA   GBH   GBD   GBA   BSH   BSD   BSA  \n",
      "0  4.00  1.65  3.40  4.50  1.78  3.25  4.00  1.73  3.40  4.20  \n",
      "1  3.80  2.00  3.25  3.25  1.85  3.25  3.75  1.91  3.25  3.60  \n",
      "2  2.50  2.35  3.25  2.65  2.50  3.20  2.50  2.30  3.20  2.75  \n",
      "3  7.50  1.45  3.75  6.50  1.50  3.75  5.50  1.44  3.75  6.50  \n",
      "4  1.73  4.50  3.40  1.65  4.50  3.50  1.65  4.75  3.30  1.67  \n",
      "\n",
      "[5 rows x 115 columns]\n"
     ]
    }
   ],
   "source": [
    "print(\"\\nDane z tabeli Match:\")\n",
    "print(df_match.head())"
   ]
  },
  {
   "cell_type": "code",
   "execution_count": 5,
   "metadata": {},
   "outputs": [
    {
     "name": "stdout",
     "output_type": "stream",
     "text": [
      "\n",
      "Dane z tabeli Player:\n",
      "   id  player_api_id         player_name  player_fifa_api_id  \\\n",
      "0   1         505942  Aaron Appindangoye              218353   \n",
      "1   2         155782     Aaron Cresswell              189615   \n",
      "2   3         162549         Aaron Doran              186170   \n",
      "3   4          30572       Aaron Galindo              140161   \n",
      "4   5          23780        Aaron Hughes               17725   \n",
      "\n",
      "              birthday  height  weight  \n",
      "0  1992-02-29 00:00:00  182.88     187  \n",
      "1  1989-12-15 00:00:00  170.18     146  \n",
      "2  1991-05-13 00:00:00  170.18     163  \n",
      "3  1982-05-08 00:00:00  182.88     198  \n",
      "4  1979-11-08 00:00:00  182.88     154  \n"
     ]
    }
   ],
   "source": [
    "print(\"\\nDane z tabeli Player:\")\n",
    "print(df_player.head())"
   ]
  },
  {
   "cell_type": "code",
   "execution_count": 6,
   "metadata": {},
   "outputs": [
    {
     "name": "stdout",
     "output_type": "stream",
     "text": [
      "\n",
      "Dane z tabeli Player_Attributes:\n",
      "   id  player_fifa_api_id  player_api_id                 date  overall_rating  \\\n",
      "0   1              218353         505942  2016-02-18 00:00:00            67.0   \n",
      "1   2              218353         505942  2015-11-19 00:00:00            67.0   \n",
      "2   3              218353         505942  2015-09-21 00:00:00            62.0   \n",
      "3   4              218353         505942  2015-03-20 00:00:00            61.0   \n",
      "4   5              218353         505942  2007-02-22 00:00:00            61.0   \n",
      "\n",
      "   potential preferred_foot attacking_work_rate defensive_work_rate  crossing  \\\n",
      "0       71.0          right              medium              medium      49.0   \n",
      "1       71.0          right              medium              medium      49.0   \n",
      "2       66.0          right              medium              medium      49.0   \n",
      "3       65.0          right              medium              medium      48.0   \n",
      "4       65.0          right              medium              medium      48.0   \n",
      "\n",
      "   ...  vision  penalties  marking  standing_tackle  sliding_tackle  \\\n",
      "0  ...    54.0       48.0     65.0             69.0            69.0   \n",
      "1  ...    54.0       48.0     65.0             69.0            69.0   \n",
      "2  ...    54.0       48.0     65.0             66.0            69.0   \n",
      "3  ...    53.0       47.0     62.0             63.0            66.0   \n",
      "4  ...    53.0       47.0     62.0             63.0            66.0   \n",
      "\n",
      "   gk_diving  gk_handling  gk_kicking  gk_positioning  gk_reflexes  \n",
      "0        6.0         11.0        10.0             8.0          8.0  \n",
      "1        6.0         11.0        10.0             8.0          8.0  \n",
      "2        6.0         11.0        10.0             8.0          8.0  \n",
      "3        5.0         10.0         9.0             7.0          7.0  \n",
      "4        5.0         10.0         9.0             7.0          7.0  \n",
      "\n",
      "[5 rows x 42 columns]\n"
     ]
    }
   ],
   "source": [
    "print(\"\\nDane z tabeli Player_Attributes:\")\n",
    "print(df_playerAtrib.head())"
   ]
  },
  {
   "cell_type": "code",
   "execution_count": 7,
   "metadata": {},
   "outputs": [
    {
     "name": "stdout",
     "output_type": "stream",
     "text": [
      "\n",
      "Dane z tabeli Team:\n",
      "   id  team_api_id  team_fifa_api_id     team_long_name team_short_name\n",
      "0   1         9987             673.0           KRC Genk             GEN\n",
      "1   2         9993             675.0       Beerschot AC             BAC\n",
      "2   3        10000           15005.0   SV Zulte-Waregem             ZUL\n",
      "3   4         9994            2007.0   Sporting Lokeren             LOK\n",
      "4   5         9984            1750.0  KSV Cercle Brugge             CEB\n"
     ]
    }
   ],
   "source": [
    "print(\"\\nDane z tabeli Team:\")\n",
    "print(df_team.head())"
   ]
  },
  {
   "cell_type": "code",
   "execution_count": 8,
   "metadata": {},
   "outputs": [
    {
     "name": "stdout",
     "output_type": "stream",
     "text": [
      "\n",
      "Dane z tabeli Team_Attributes:\n",
      "   id  team_fifa_api_id  team_api_id                 date  buildUpPlaySpeed  \\\n",
      "0   1               434         9930  2010-02-22 00:00:00                60   \n",
      "1   2               434         9930  2014-09-19 00:00:00                52   \n",
      "2   3               434         9930  2015-09-10 00:00:00                47   \n",
      "3   4                77         8485  2010-02-22 00:00:00                70   \n",
      "4   5                77         8485  2011-02-22 00:00:00                47   \n",
      "\n",
      "  buildUpPlaySpeedClass  buildUpPlayDribbling buildUpPlayDribblingClass  \\\n",
      "0              Balanced                   NaN                    Little   \n",
      "1              Balanced                  48.0                    Normal   \n",
      "2              Balanced                  41.0                    Normal   \n",
      "3                  Fast                   NaN                    Little   \n",
      "4              Balanced                   NaN                    Little   \n",
      "\n",
      "   buildUpPlayPassing buildUpPlayPassingClass  ... chanceCreationShooting  \\\n",
      "0                  50                   Mixed  ...                     55   \n",
      "1                  56                   Mixed  ...                     64   \n",
      "2                  54                   Mixed  ...                     64   \n",
      "3                  70                    Long  ...                     70   \n",
      "4                  52                   Mixed  ...                     52   \n",
      "\n",
      "   chanceCreationShootingClass chanceCreationPositioningClass  \\\n",
      "0                       Normal                      Organised   \n",
      "1                       Normal                      Organised   \n",
      "2                       Normal                      Organised   \n",
      "3                         Lots                      Organised   \n",
      "4                       Normal                      Organised   \n",
      "\n",
      "   defencePressure defencePressureClass  defenceAggression  \\\n",
      "0               50               Medium                 55   \n",
      "1               47               Medium                 44   \n",
      "2               47               Medium                 44   \n",
      "3               60               Medium                 70   \n",
      "4               47               Medium                 47   \n",
      "\n",
      "  defenceAggressionClass defenceTeamWidth  defenceTeamWidthClass  \\\n",
      "0                  Press               45                 Normal   \n",
      "1                  Press               54                 Normal   \n",
      "2                  Press               54                 Normal   \n",
      "3                 Double               70                   Wide   \n",
      "4                  Press               52                 Normal   \n",
      "\n",
      "  defenceDefenderLineClass  \n",
      "0                    Cover  \n",
      "1                    Cover  \n",
      "2                    Cover  \n",
      "3                    Cover  \n",
      "4                    Cover  \n",
      "\n",
      "[5 rows x 25 columns]\n"
     ]
    }
   ],
   "source": [
    "print(\"\\nDane z tabeli Team_Attributes:\")\n",
    "print(df_teamAtrib.head())"
   ]
  }
 ],
 "metadata": {
  "kernelspec": {
   "display_name": "python3_12",
   "language": "python",
   "name": "python3"
  },
  "language_info": {
   "codemirror_mode": {
    "name": "ipython",
    "version": 3
   },
   "file_extension": ".py",
   "mimetype": "text/x-python",
   "name": "python",
   "nbconvert_exporter": "python",
   "pygments_lexer": "ipython3",
   "version": "3.12.4"
  }
 },
 "nbformat": 4,
 "nbformat_minor": 2
}
